{
 "cells": [
  {
   "cell_type": "markdown",
   "metadata": {},
   "source": [
    "# Conditional Dimensions tutorial\n",
    "\n",
    "This tutorial is designed to demonstrate how users can implement various conditions in Devito using [ Conditional Dimension](https://github.com/devitocodes/devito/blob/e918e26757a4f0ea3c3c416b6e0f48f4e5023c37/devito/types/dimension.py#L635 \"class ConditionalDimension(DerivedDimension):\"). Devito can generate a great variety of loop kernels using its Domain Specific Language. We are going to show how we can generate loop structures in C language using Devito's DSL and how we can add conditional statements in them.\n",
    "\n",
    "As always, we will begin by specifying some parameters. We will define a 2D iteration space and we will name the Dimensions as $i,j$.\n",
    "\n",
    "## Part A\n",
    "\n",
    "In Part A we introduce a simple example of a Devito Operator and gently introduce the use of Conditional Dimension.\n",
    "First of all let's declare some initial parameters."
   ]
  },
  {
   "cell_type": "code",
   "execution_count": 1,
   "metadata": {},
   "outputs": [],
   "source": [
    "from devito import Dimension\n",
    "%matplotlib inline\n",
    "\n",
    "nx = 10\n",
    "ny = 10\n",
    "shape = (nx, ny) \n",
    "i = Dimension(name='i')\n",
    "j = Dimension(name='j')"
   ]
  },
  {
   "cell_type": "markdown",
   "metadata": {},
   "source": [
    "In the next cell we will define a 2D Function $f$ with shape $(nx,ny)$ and dimensions $i,j$. We will populate the 2D data of the Function with ones on its diagonal."
   ]
  },
  {
   "cell_type": "code",
   "execution_count": 2,
   "metadata": {},
   "outputs": [
    {
     "name": "stdout",
     "output_type": "stream",
     "text": [
      "[[1. 0. 0. 0. 0. 0. 0. 0. 0. 0.]\n",
      " [0. 1. 0. 0. 0. 0. 0. 0. 0. 0.]\n",
      " [0. 0. 1. 0. 0. 0. 0. 0. 0. 0.]\n",
      " [0. 0. 0. 1. 0. 0. 0. 0. 0. 0.]\n",
      " [0. 0. 0. 0. 1. 0. 0. 0. 0. 0.]\n",
      " [0. 0. 0. 0. 0. 1. 0. 0. 0. 0.]\n",
      " [0. 0. 0. 0. 0. 0. 1. 0. 0. 0.]\n",
      " [0. 0. 0. 0. 0. 0. 0. 1. 0. 0.]\n",
      " [0. 0. 0. 0. 0. 0. 0. 0. 1. 0.]\n",
      " [0. 0. 0. 0. 0. 0. 0. 0. 0. 1.]]\n"
     ]
    }
   ],
   "source": [
    "from devito import Function\n",
    "import numpy as np\n",
    "\n",
    "f = Function(name='f', shape=shape, dimensions=(i,j))\n",
    "f.data[:,:] = np.eye(nx)\n",
    "print(f.data[:,:]) # Print data"
   ]
  },
  {
   "cell_type": "markdown",
   "metadata": {},
   "source": [
    "Now lets construct a simple operator to increase the values of $ f $ by 1. We just need to update every element by 1 and execute the operator once. After the execution you can see every element updated by one."
   ]
  },
  {
   "cell_type": "code",
   "execution_count": 3,
   "metadata": {},
   "outputs": [
    {
     "name": "stderr",
     "output_type": "stream",
     "text": [
      "Operator `Kernel` run in 0.01 s\n"
     ]
    },
    {
     "name": "stdout",
     "output_type": "stream",
     "text": [
      "[[2. 1. 1. 1. 1. 1. 1. 1. 1. 1.]\n",
      " [1. 2. 1. 1. 1. 1. 1. 1. 1. 1.]\n",
      " [1. 1. 2. 1. 1. 1. 1. 1. 1. 1.]\n",
      " [1. 1. 1. 2. 1. 1. 1. 1. 1. 1.]\n",
      " [1. 1. 1. 1. 2. 1. 1. 1. 1. 1.]\n",
      " [1. 1. 1. 1. 1. 2. 1. 1. 1. 1.]\n",
      " [1. 1. 1. 1. 1. 1. 2. 1. 1. 1.]\n",
      " [1. 1. 1. 1. 1. 1. 1. 2. 1. 1.]\n",
      " [1. 1. 1. 1. 1. 1. 1. 1. 2. 1.]\n",
      " [1. 1. 1. 1. 1. 1. 1. 1. 1. 2.]]\n"
     ]
    }
   ],
   "source": [
    "from devito import Eq, Operator\n",
    "op = Operator(Eq(f, f + 1))\n",
    "op.apply()\n",
    "print(f.data[:,:])"
   ]
  },
  {
   "cell_type": "markdown",
   "metadata": {},
   "source": [
    "Every value has been updated by one. Now let's have a look at the generated code. We can see that we iterate over a 2D space, increasing every grid value by one."
   ]
  },
  {
   "cell_type": "code",
   "execution_count": 4,
   "metadata": {},
   "outputs": [
    {
     "name": "stdout",
     "output_type": "stream",
     "text": [
      "#define _POSIX_C_SOURCE 200809L\n",
      "#include \"stdlib.h\"\n",
      "#include \"math.h\"\n",
      "#include \"sys/time.h\"\n",
      "#include \"xmmintrin.h\"\n",
      "#include \"pmmintrin.h\"\n",
      "\n",
      "struct dataobj\n",
      "{\n",
      "  void *restrict data;\n",
      "  int * size;\n",
      "  int * npsize;\n",
      "  int * dsize;\n",
      "  int * hsize;\n",
      "  int * hofs;\n",
      "  int * oofs;\n",
      "} ;\n",
      "\n",
      "struct profiler\n",
      "{\n",
      "  double section0;\n",
      "} ;\n",
      "\n",
      "\n",
      "int Kernel(struct dataobj *restrict f_vec, const int i_M, const int i_m, const int j_M, const int j_m, struct profiler * timers)\n",
      "{\n",
      "  float (*restrict f)[f_vec->size[1]] __attribute__ ((aligned (64))) = (float (*)[f_vec->size[1]]) f_vec->data;\n",
      "  /* Flush denormal numbers to zero in hardware */\n",
      "  _MM_SET_DENORMALS_ZERO_MODE(_MM_DENORMALS_ZERO_ON);\n",
      "  _MM_SET_FLUSH_ZERO_MODE(_MM_FLUSH_ZERO_ON);\n",
      "  struct timeval start_section0, end_section0;\n",
      "  gettimeofday(&start_section0, NULL);\n",
      "  /* Begin section0 */\n",
      "  for (int i = i_m; i <= i_M; i += 1)\n",
      "  {\n",
      "    #pragma omp simd aligned(f:32)\n",
      "    for (int j = j_m; j <= j_M; j += 1)\n",
      "    {\n",
      "      f[i][j] = f[i][j] + 1;\n",
      "    }\n",
      "  }\n",
      "  /* End section0 */\n",
      "  gettimeofday(&end_section0, NULL);\n",
      "  timers->section0 += (double)(end_section0.tv_sec-start_section0.tv_sec)+(double)(end_section0.tv_usec-start_section0.tv_usec)/1000000;\n",
      "  return 0;\n",
      "}\n",
      "\n"
     ]
    }
   ],
   "source": [
    "print(op.ccode) # Print the generated code"
   ]
  },
  {
   "cell_type": "markdown",
   "metadata": {},
   "source": [
    "It's time to  define a conditional that updates only the values of the array that are larger than 1, f(i,j)>1. The documentation of the conditional dimension is presented in [ Conditional Dimension](https://github.com/devitocodes/devito/blob/e918e26757a4f0ea3c3c416b6e0f48f4e5023c37/devito/types/dimension.py#L635 \"class ConditionalDimension(DerivedDimension):\") along with some nice examples. We name our Conditional Dimension 'ci'. When constructed we have to pass as an argument the parent dimension and the condition to satisfy. For this example we want to update again by one all the elements that are larger than 0, $f[i,j] > 0$ and smaller than 5, $f[i,j] < 5$. All the elements will be updated. We pass this dimension as implicit one to or operator. Have a sneak peek at the generated code and the data.\n"
   ]
  },
  {
   "cell_type": "code",
   "execution_count": 5,
   "metadata": {
    "scrolled": true
   },
   "outputs": [
    {
     "name": "stderr",
     "output_type": "stream",
     "text": [
      "Operator `Kernel` run in 0.01 s\n"
     ]
    },
    {
     "name": "stdout",
     "output_type": "stream",
     "text": [
      "#define _POSIX_C_SOURCE 200809L\n",
      "#include \"stdlib.h\"\n",
      "#include \"math.h\"\n",
      "#include \"sys/time.h\"\n",
      "#include \"xmmintrin.h\"\n",
      "#include \"pmmintrin.h\"\n",
      "\n",
      "struct dataobj\n",
      "{\n",
      "  void *restrict data;\n",
      "  int * size;\n",
      "  int * npsize;\n",
      "  int * dsize;\n",
      "  int * hsize;\n",
      "  int * hofs;\n",
      "  int * oofs;\n",
      "} ;\n",
      "\n",
      "struct profiler\n",
      "{\n",
      "  double section0;\n",
      "} ;\n",
      "\n",
      "\n",
      "int Kernel(struct dataobj *restrict f_vec, const int i_M, const int i_m, const int j_M, const int j_m, struct profiler * timers)\n",
      "{\n",
      "  float (*restrict f)[f_vec->size[1]] __attribute__ ((aligned (64))) = (float (*)[f_vec->size[1]]) f_vec->data;\n",
      "  /* Flush denormal numbers to zero in hardware */\n",
      "  _MM_SET_DENORMALS_ZERO_MODE(_MM_DENORMALS_ZERO_ON);\n",
      "  _MM_SET_FLUSH_ZERO_MODE(_MM_FLUSH_ZERO_ON);\n",
      "  struct timeval start_section0, end_section0;\n",
      "  gettimeofday(&start_section0, NULL);\n",
      "  /* Begin section0 */\n",
      "  for (int i = i_m; i <= i_M; i += 1)\n",
      "  {\n",
      "    #pragma omp simd aligned(f:32)\n",
      "    for (int j = j_m; j <= j_M; j += 1)\n",
      "    {\n",
      "      if (f[i][j] > 0 && f[i][j] < 5)\n",
      "      {\n",
      "        f[i][j] = f[i][j] + 1;\n",
      "      }\n",
      "    }\n",
      "  }\n",
      "  /* End section0 */\n",
      "  gettimeofday(&end_section0, NULL);\n",
      "  timers->section0 += (double)(end_section0.tv_sec-start_section0.tv_sec)+(double)(end_section0.tv_usec-start_section0.tv_usec)/1000000;\n",
      "  return 0;\n",
      "}\n",
      "\n"
     ]
    },
    {
     "data": {
      "text/plain": [
       "Data([[3., 2., 2., 2., 2., 2., 2., 2., 2., 2.],\n",
       "      [2., 3., 2., 2., 2., 2., 2., 2., 2., 2.],\n",
       "      [2., 2., 3., 2., 2., 2., 2., 2., 2., 2.],\n",
       "      [2., 2., 2., 3., 2., 2., 2., 2., 2., 2.],\n",
       "      [2., 2., 2., 2., 3., 2., 2., 2., 2., 2.],\n",
       "      [2., 2., 2., 2., 2., 3., 2., 2., 2., 2.],\n",
       "      [2., 2., 2., 2., 2., 2., 3., 2., 2., 2.],\n",
       "      [2., 2., 2., 2., 2., 2., 2., 3., 2., 2.],\n",
       "      [2., 2., 2., 2., 2., 2., 2., 2., 3., 2.],\n",
       "      [2., 2., 2., 2., 2., 2., 2., 2., 2., 3.]], dtype=float32)"
      ]
     },
     "execution_count": 5,
     "metadata": {},
     "output_type": "execute_result"
    }
   ],
   "source": [
    "from devito import ConditionalDimension\n",
    "from devito.symbolics import CondEq\n",
    "from sympy import And\n",
    "\n",
    "condition = And(f[i,j] > 0, f[i,j] < 5 , evaluate=False)\n",
    "ci = ConditionalDimension(name='ci', parent=j, condition=condition)\n",
    "\n",
    "op = Operator(Eq(f, f + 1, implicit_dims=ci))\n",
    "op.apply()\n",
    "print(op.ccode)\n",
    "f.data\n"
   ]
  },
  {
   "cell_type": "markdown",
   "metadata": {},
   "source": [
    "Our operator will be increasing by one as far as element value does not get larger than 5. You can execute the following cell a few times to notice this. All values will converge to 5."
   ]
  },
  {
   "cell_type": "code",
   "execution_count": 6,
   "metadata": {},
   "outputs": [
    {
     "name": "stderr",
     "output_type": "stream",
     "text": [
      "Operator `Kernel` run in 0.01 s\n"
     ]
    },
    {
     "data": {
      "text/plain": [
       "Data([[4., 3., 3., 3., 3., 3., 3., 3., 3., 3.],\n",
       "      [3., 4., 3., 3., 3., 3., 3., 3., 3., 3.],\n",
       "      [3., 3., 4., 3., 3., 3., 3., 3., 3., 3.],\n",
       "      [3., 3., 3., 4., 3., 3., 3., 3., 3., 3.],\n",
       "      [3., 3., 3., 3., 4., 3., 3., 3., 3., 3.],\n",
       "      [3., 3., 3., 3., 3., 4., 3., 3., 3., 3.],\n",
       "      [3., 3., 3., 3., 3., 3., 4., 3., 3., 3.],\n",
       "      [3., 3., 3., 3., 3., 3., 3., 4., 3., 3.],\n",
       "      [3., 3., 3., 3., 3., 3., 3., 3., 4., 3.],\n",
       "      [3., 3., 3., 3., 3., 3., 3., 3., 3., 4.]], dtype=float32)"
      ]
     },
     "execution_count": 6,
     "metadata": {},
     "output_type": "execute_result"
    }
   ],
   "source": [
    "# Execute this cell 4-5 times\n",
    "op.apply()\n",
    "f.data"
   ]
  },
  {
   "cell_type": "markdown",
   "metadata": {},
   "source": [
    "Now lets create 2 new 2D functions: Function $g$ and $h$. Let's initialize their data with 1's in their diagonal. There is no need to pass it to the operator. This time the $h$ will use the conditional dimension upon construction time. We add $i<5$ in the conditions and we update $h$ with $g + 1$ only for the first 5 rows. Have look at the generated data and the output data."
   ]
  },
  {
   "cell_type": "code",
   "execution_count": 7,
   "metadata": {},
   "outputs": [
    {
     "name": "stderr",
     "output_type": "stream",
     "text": [
      "Operator `Kernel` run in 0.01 s\n"
     ]
    },
    {
     "name": "stdout",
     "output_type": "stream",
     "text": [
      "#define _POSIX_C_SOURCE 200809L\n",
      "#include \"stdlib.h\"\n",
      "#include \"math.h\"\n",
      "#include \"sys/time.h\"\n",
      "#include \"xmmintrin.h\"\n",
      "#include \"pmmintrin.h\"\n",
      "\n",
      "struct dataobj\n",
      "{\n",
      "  void *restrict data;\n",
      "  int * size;\n",
      "  int * npsize;\n",
      "  int * dsize;\n",
      "  int * hsize;\n",
      "  int * hofs;\n",
      "  int * oofs;\n",
      "} ;\n",
      "\n",
      "struct profiler\n",
      "{\n",
      "  double section0;\n",
      "} ;\n",
      "\n",
      "\n",
      "int Kernel(struct dataobj *restrict g_vec, struct dataobj *restrict h_vec, const int i_M, const int i_m, const int j_M, const int j_m, struct profiler * timers)\n",
      "{\n",
      "  float (*restrict g)[g_vec->size[1]] __attribute__ ((aligned (64))) = (float (*)[g_vec->size[1]]) g_vec->data;\n",
      "  float (*restrict h)[h_vec->size[1]] __attribute__ ((aligned (64))) = (float (*)[h_vec->size[1]]) h_vec->data;\n",
      "  /* Flush denormal numbers to zero in hardware */\n",
      "  _MM_SET_DENORMALS_ZERO_MODE(_MM_DENORMALS_ZERO_ON);\n",
      "  _MM_SET_FLUSH_ZERO_MODE(_MM_FLUSH_ZERO_ON);\n",
      "  struct timeval start_section0, end_section0;\n",
      "  gettimeofday(&start_section0, NULL);\n",
      "  /* Begin section0 */\n",
      "  for (int i = i_m; i <= i_M; i += 1)\n",
      "  {\n",
      "    #pragma omp simd aligned(g,h:32)\n",
      "    for (int j = j_m; j <= j_M; j += 1)\n",
      "    {\n",
      "      if (g[i][j] > 0 && i < 5 && g[i][j] < 5)\n",
      "      {\n",
      "        h[i][j] = g[i][j] + 1;\n",
      "      }\n",
      "    }\n",
      "  }\n",
      "  /* End section0 */\n",
      "  gettimeofday(&end_section0, NULL);\n",
      "  timers->section0 += (double)(end_section0.tv_sec-start_section0.tv_sec)+(double)(end_section0.tv_usec-start_section0.tv_usec)/1000000;\n",
      "  return 0;\n",
      "}\n",
      "\n"
     ]
    }
   ],
   "source": [
    "g = Function(name='g', shape=shape, dimensions=(i,j))\n",
    "ci = ConditionalDimension(name='ci', parent=j, condition=And(g[i,j] > 0, g[i,j] < 5, i< 5 , evaluate=False))\n",
    "h = Function(name='h', shape=shape, dimensions=(i,ci))\n",
    "g.data[:,:] = np.eye(10)\n",
    "h.data[:,:] = np.eye(10)\n",
    "\n",
    "op = Operator(Eq(h, g + 1, implicit_dims=ci))\n",
    "op.apply()\n",
    "h.data\n",
    "print(op.ccode)"
   ]
  },
  {
   "cell_type": "markdown",
   "metadata": {},
   "source": [
    "You can see that now `h` was been updated only for the first 5 rows."
   ]
  },
  {
   "cell_type": "markdown",
   "metadata": {},
   "source": [
    "## PART B - Game of Life WORK IN PROGRESS\n",
    "\n",
    "Live cells:\n",
    "\n",
    "- a cell with a live neighbour on its i-1 and j+1 neighbour will get live (1).\n"
   ]
  },
  {
   "cell_type": "code",
   "execution_count": 8,
   "metadata": {},
   "outputs": [
    {
     "name": "stdout",
     "output_type": "stream",
     "text": [
      "[[0. 0. 0. 0. 0. 0. 0. 0. 0. 0. 0. 0.]\n",
      " [0. 1. 0. 0. 0. 0. 0. 0. 0. 0. 0. 0.]\n",
      " [0. 0. 1. 0. 0. 0. 0. 0. 0. 0. 0. 0.]\n",
      " [0. 0. 0. 1. 0. 0. 0. 0. 0. 0. 0. 0.]\n",
      " [0. 0. 0. 0. 1. 0. 0. 0. 0. 0. 0. 0.]\n",
      " [0. 0. 0. 0. 0. 1. 0. 0. 0. 0. 0. 0.]\n",
      " [0. 0. 0. 0. 0. 0. 1. 0. 0. 0. 0. 0.]\n",
      " [0. 0. 0. 0. 0. 0. 0. 1. 0. 0. 0. 0.]\n",
      " [0. 0. 0. 0. 0. 0. 0. 0. 1. 0. 0. 0.]\n",
      " [0. 0. 0. 0. 0. 0. 0. 0. 0. 1. 0. 0.]\n",
      " [0. 0. 0. 0. 0. 0. 0. 0. 0. 0. 1. 0.]\n",
      " [0. 0. 0. 0. 0. 0. 0. 0. 0. 0. 0. 0.]]\n"
     ]
    }
   ],
   "source": [
    "import matplotlib.pyplot as plt\n",
    "from devito import TimeFunction, Eq, Grid\n",
    "\n",
    "grid = Grid(shape=(nx, ny))\n",
    "\n",
    "gl = TimeFunction(name='gl', grid=grid)\n",
    "gl.data[:,:] = np.eye(nx)\n",
    "print(gl.data_with_halo[0]) # Show data"
   ]
  },
  {
   "cell_type": "code",
   "execution_count": 9,
   "metadata": {},
   "outputs": [
    {
     "name": "stdout",
     "output_type": "stream",
     "text": [
      "#define _POSIX_C_SOURCE 200809L\n",
      "#include \"stdlib.h\"\n",
      "#include \"math.h\"\n",
      "#include \"sys/time.h\"\n",
      "#include \"xmmintrin.h\"\n",
      "#include \"pmmintrin.h\"\n",
      "\n",
      "struct dataobj\n",
      "{\n",
      "  void *restrict data;\n",
      "  int * size;\n",
      "  int * npsize;\n",
      "  int * dsize;\n",
      "  int * hsize;\n",
      "  int * hofs;\n",
      "  int * oofs;\n",
      "} ;\n",
      "\n",
      "struct profiler\n",
      "{\n",
      "  double section0;\n",
      "} ;\n",
      "\n",
      "\n",
      "int Kernel(struct dataobj *restrict g_vec, struct dataobj *restrict h_vec, const int i_M, const int i_m, const int j_M, const int j_m, struct profiler * timers)\n",
      "{\n",
      "  float (*restrict g)[g_vec->size[1]] __attribute__ ((aligned (64))) = (float (*)[g_vec->size[1]]) g_vec->data;\n",
      "  float (*restrict h)[h_vec->size[1]] __attribute__ ((aligned (64))) = (float (*)[h_vec->size[1]]) h_vec->data;\n",
      "  /* Flush denormal numbers to zero in hardware */\n",
      "  _MM_SET_DENORMALS_ZERO_MODE(_MM_DENORMALS_ZERO_ON);\n",
      "  _MM_SET_FLUSH_ZERO_MODE(_MM_FLUSH_ZERO_ON);\n",
      "  struct timeval start_section0, end_section0;\n",
      "  gettimeofday(&start_section0, NULL);\n",
      "  /* Begin section0 */\n",
      "  for (int i = i_m; i <= i_M; i += 1)\n",
      "  {\n",
      "    #pragma omp simd aligned(g,h:32)\n",
      "    for (int j = j_m; j <= j_M; j += 1)\n",
      "    {\n",
      "      if (g[i][j] > 0 && i < 5 && g[i][j] < 5)\n",
      "      {\n",
      "        h[i][j] = g[i][j] + 1;\n",
      "      }\n",
      "    }\n",
      "  }\n",
      "  /* End section0 */\n",
      "  gettimeofday(&end_section0, NULL);\n",
      "  timers->section0 += (double)(end_section0.tv_sec-start_section0.tv_sec)+(double)(end_section0.tv_usec-start_section0.tv_usec)/1000000;\n",
      "  return 0;\n",
      "}\n",
      "\n"
     ]
    },
    {
     "data": {
      "text/plain": [
       "<matplotlib.image.AxesImage at 0x7f793c69a890>"
      ]
     },
     "execution_count": 9,
     "metadata": {},
     "output_type": "execute_result"
    },
    {
     "data": {
      "image/png": "[encoded data removed]",
      "text/plain": [
       "<Figure size 432x288 with 1 Axes>"
      ]
     },
     "metadata": {
      "needs_background": "light"
     },
     "output_type": "display_data"
    }
   ],
   "source": [
    "print(op.ccode)\n",
    "#op.apply()\n",
    "plt.imshow(gl.data_with_halo[0])"
   ]
  },
  {
   "cell_type": "code",
   "execution_count": 10,
   "metadata": {},
   "outputs": [
    {
     "data": {
      "text/plain": [
       "<matplotlib.image.AxesImage at 0x7f7911668290>"
      ]
     },
     "execution_count": 10,
     "metadata": {},
     "output_type": "execute_result"
    },
    {
     "data": {
      "image/png": "[encoded data removed]",
      "text/plain": [
       "<Figure size 432x288 with 1 Axes>"
      ]
     },
     "metadata": {
      "needs_background": "light"
     },
     "output_type": "display_data"
    }
   ],
   "source": [
    "# Execute this cell a few times to see more cells getting live\n",
    "#op.apply()\n",
    "plt.imshow(gl.data_with_halo[0])"
   ]
  }
 ],
 "metadata": {
  "celltoolbar": "Tags",
  "kernelspec": {
   "display_name": "Python [conda env:devito] *",
   "language": "python",
   "name": "conda-env-devito-py"
  },
  "language_info": {
   "codemirror_mode": {
    "name": "ipython",
    "version": 3
   },
   "file_extension": ".py",
   "mimetype": "text/x-python",
   "name": "python",
   "nbconvert_exporter": "python",
   "pygments_lexer": "ipython3",
   "version": "3.7.5"
  }
 },
 "nbformat": 4,
 "nbformat_minor": 2
}
