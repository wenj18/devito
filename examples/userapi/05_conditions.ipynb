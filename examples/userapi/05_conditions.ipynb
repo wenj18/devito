{
 "cells": [
  {
   "cell_type": "markdown",
   "metadata": {},
   "source": [
    "# Conditional Dimensions tutorial"
   ]
  },
  {
   "cell_type": "markdown",
   "metadata": {},
   "source": [
    "This tutorial is designed to demonstrate how users can implement various conditions in Devito using [ Conditional Dimension](https://github.com/devitocodes/devito/blob/e918e26757a4f0ea3c3c416b6e0f48f4e5023c37/devito/types/dimension.py#L635 \"class ConditionalDimension(DerivedDimension):\"). Devito can generate a great variety of loop kernels using its Domain Specific Language. We are going to show how we can generate loop structures in C language using Devito's DSL and how we can add conditional statements in them.\n",
    "\n",
    "As always, we will begin by specifying some parameters. We will define a 2D iteration space and we will name the Dimensions as $i,j$.\n",
    "\n",
    "## Part A\n",
    "\n",
    "In Part A we introduce a simple example of a Devito Operator and gently introduce the use of Conditional Dimension.\n",
    "First of all let's declare some initial parameters."
   ]
  },
  {
   "cell_type": "code",
   "execution_count": 1,
   "metadata": {},
   "outputs": [],
   "source": [
    "from devito import Dimension\n",
    "%matplotlib inline\n",
    "\n",
    "nx = 10\n",
    "ny = 10\n",
    "shape = (nx, ny) \n",
    "i = Dimension(name='i')\n",
    "j = Dimension(name='j')"
   ]
  },
  {
   "cell_type": "markdown",
   "metadata": {},
   "source": [
    "In the next cell we will define a 2D Function $f$ with shape $(nx,ny)$ and dimensions $i,j$. We will populate the 2D data of the Function with ones on its diagonal."
   ]
  },
  {
   "cell_type": "code",
   "execution_count": 2,
   "metadata": {},
   "outputs": [
    {
     "name": "stderr",
     "output_type": "stream",
     "text": [
      "Allocating memory for f(10, 10)\n"
     ]
    },
    {
     "data": {
      "text/plain": [
       "Data([[1., 0., 0., 0., 0., 0., 0., 0., 0., 0.],\n",
       "      [0., 1., 0., 0., 0., 0., 0., 0., 0., 0.],\n",
       "      [0., 0., 1., 0., 0., 0., 0., 0., 0., 0.],\n",
       "      [0., 0., 0., 1., 0., 0., 0., 0., 0., 0.],\n",
       "      [0., 0., 0., 0., 1., 0., 0., 0., 0., 0.],\n",
       "      [0., 0., 0., 0., 0., 1., 0., 0., 0., 0.],\n",
       "      [0., 0., 0., 0., 0., 0., 1., 0., 0., 0.],\n",
       "      [0., 0., 0., 0., 0., 0., 0., 1., 0., 0.],\n",
       "      [0., 0., 0., 0., 0., 0., 0., 0., 1., 0.],\n",
       "      [0., 0., 0., 0., 0., 0., 0., 0., 0., 1.]], dtype=float32)"
      ]
     },
     "execution_count": 2,
     "metadata": {},
     "output_type": "execute_result"
    }
   ],
   "source": [
    "from devito import Function\n",
    "import numpy as np\n",
    "\n",
    "f = Function(name='f', shape=shape, dimensions=(i,j))\n",
    "f.data[:,:] = np.eye(nx)\n",
    "f.data[:,:] # Print data"
   ]
  },
  {
   "cell_type": "markdown",
   "metadata": {},
   "source": [
    "Now lets construct a simple operator to increase the values of $ f $ by 1. We just need to update every element by 1 and execute the operator once. After the execution you can see every element updated by one."
   ]
  },
  {
   "cell_type": "code",
   "execution_count": 3,
   "metadata": {},
   "outputs": [
    {
     "name": "stderr",
     "output_type": "stream",
     "text": [
      "Operator `Kernel` generated in 0.06 s\n",
      "  * lowering.IET: 0.04 s (74.2 %)\n",
      "     * specializing.IET: 0.03 s (55.7 %)\n",
      "Flops reduction after symbolic optimization: [0 --> 0]\n",
      "Operator `Kernel` fetched `/tmp/devito-jitcache-uid1000/6f2211d9445e75fa20534d1a0f028f7edbb0c2e8.c` in 0.02 s from jit-cache\n",
      "Operator `Kernel` run in 0.01 s\n",
      "Performance[mode=advanced] arguments: {'nthreads': 6}\n"
     ]
    },
    {
     "data": {
      "text/plain": [
       "Data([[2., 1., 1., 1., 1., 1., 1., 1., 1., 1.],\n",
       "      [1., 2., 1., 1., 1., 1., 1., 1., 1., 1.],\n",
       "      [1., 1., 2., 1., 1., 1., 1., 1., 1., 1.],\n",
       "      [1., 1., 1., 2., 1., 1., 1., 1., 1., 1.],\n",
       "      [1., 1., 1., 1., 2., 1., 1., 1., 1., 1.],\n",
       "      [1., 1., 1., 1., 1., 2., 1., 1., 1., 1.],\n",
       "      [1., 1., 1., 1., 1., 1., 2., 1., 1., 1.],\n",
       "      [1., 1., 1., 1., 1., 1., 1., 2., 1., 1.],\n",
       "      [1., 1., 1., 1., 1., 1., 1., 1., 2., 1.],\n",
       "      [1., 1., 1., 1., 1., 1., 1., 1., 1., 2.]], dtype=float32)"
      ]
     },
     "execution_count": 3,
     "metadata": {},
     "output_type": "execute_result"
    }
   ],
   "source": [
    "from devito import Eq, Operator\n",
    "op = Operator(Eq(f, f + 1))\n",
    "op.apply()\n",
    "f.data"
   ]
  },
  {
   "cell_type": "markdown",
   "metadata": {},
   "source": [
    "Every value has been updated by one. Now let's have a look at the generated code. We can see that we iterate over a 2D space, increasing every grid value by one."
   ]
  },
  {
   "cell_type": "code",
   "execution_count": 4,
   "metadata": {},
   "outputs": [
    {
     "name": "stdout",
     "output_type": "stream",
     "text": [
      "#define _POSIX_C_SOURCE 200809L\n",
      "#include \"stdlib.h\"\n",
      "#include \"math.h\"\n",
      "#include \"sys/time.h\"\n",
      "#include \"xmmintrin.h\"\n",
      "#include \"pmmintrin.h\"\n",
      "#include \"omp.h\"\n",
      "\n",
      "struct dataobj\n",
      "{\n",
      "  void *restrict data;\n",
      "  int * size;\n",
      "  int * npsize;\n",
      "  int * dsize;\n",
      "  int * hsize;\n",
      "  int * hofs;\n",
      "  int * oofs;\n",
      "} ;\n",
      "\n",
      "struct profiler\n",
      "{\n",
      "  double section0;\n",
      "} ;\n",
      "\n",
      "\n",
      "int Kernel(struct dataobj *restrict f_vec, const int i_M, const int i_m, const int j_M, const int j_m, struct profiler * timers, const int nthreads)\n",
      "{\n",
      "  float (*restrict f)[f_vec->size[1]] __attribute__ ((aligned (64))) = (float (*)[f_vec->size[1]]) f_vec->data;\n",
      "  /* Flush denormal numbers to zero in hardware */\n",
      "  _MM_SET_DENORMALS_ZERO_MODE(_MM_DENORMALS_ZERO_ON);\n",
      "  _MM_SET_FLUSH_ZERO_MODE(_MM_FLUSH_ZERO_ON);\n",
      "  struct timeval start_section0, end_section0;\n",
      "  gettimeofday(&start_section0, NULL);\n",
      "  /* Begin section0 */\n",
      "  #pragma omp parallel num_threads(nthreads)\n",
      "  {\n",
      "    #pragma omp for collapse(1) schedule(static,1)\n",
      "    for (int i = i_m; i <= i_M; i += 1)\n",
      "    {\n",
      "      #pragma omp simd aligned(f:32)\n",
      "      for (int j = j_m; j <= j_M; j += 1)\n",
      "      {\n",
      "        f[i][j] = f[i][j] + 1;\n",
      "      }\n",
      "    }\n",
      "  }\n",
      "  /* End section0 */\n",
      "  gettimeofday(&end_section0, NULL);\n",
      "  timers->section0 += (double)(end_section0.tv_sec-start_section0.tv_sec)+(double)(end_section0.tv_usec-start_section0.tv_usec)/1000000;\n",
      "  return 0;\n",
      "}\n",
      "\n"
     ]
    }
   ],
   "source": [
    "print(op.ccode)"
   ]
  },
  {
   "cell_type": "markdown",
   "metadata": {},
   "source": [
    "It's time to  define a conditional that updates only the values of the array that are larger than 1, f(i,j)>1. The documentation of the conditional dimension is presented in [ Conditional Dimension](https://github.com/devitocodes/devito/blob/e918e26757a4f0ea3c3c416b6e0f48f4e5023c37/devito/types/dimension.py#L635 \"class ConditionalDimension(DerivedDimension):\") along with some nice examples. We name our Conditional Dimension 'ci'. When constructed we have to pass as an argument the parent dimension and the condition to satisfy. For this example we want to update again by one all the elements that are larger than 0, $f[i,j] > 0$ and smaller than 5, $f[i,j] < 5$. All the elements will be updated. We pass this dimension as implicit one to or operator. Have a sneak peek at the generated code and the data.\n"
   ]
  },
  {
   "cell_type": "code",
   "execution_count": 5,
   "metadata": {
    "scrolled": true
   },
   "outputs": [
    {
     "name": "stderr",
     "output_type": "stream",
     "text": [
      "Operator `Kernel` generated in 0.05 s\n",
      "  * lowering.IET: 0.04 s (84.1 %)\n",
      "     * specializing.IET: 0.03 s (63.1 %)\n",
      "        * optimize_halospots: 0.01 s (21.1 %)\n",
      "        * make_parallel: 0.01 s (21.1 %)\n",
      "        * place_casts: 0.01 s (21.1 %)\n",
      "     * lower_dims: 0.01 s (21.1 %)\n",
      "     * build: 0.01 s (21.1 %)\n",
      "  * lowering.Expressions: 0.01 s (21.1 %)\n",
      "  * lowering.Clusters: 0.01 s (21.1 %)\n",
      "     * schedule: 0.01 s (21.1 %)\n",
      "     * analyze: 0.01 s (21.1 %)\n",
      "     * specializing.Clusters: 0.01 s (21.1 %)\n",
      "        * blocking: 0.01 s (21.1 %)\n",
      "        * fuse: 0.01 s (21.1 %)\n",
      "        * lift: 0.01 s (21.1 %)\n",
      "Flops reduction after symbolic optimization: [0 --> 0]\n",
      "Operator `Kernel` fetched `/tmp/devito-jitcache-uid1000/0201023b5339acc0c9f6c7a892077d0c2d762ecb.c` in 0.02 s from jit-cache\n",
      "Operator `Kernel` run in 0.01 s\n",
      "Performance[mode=advanced] arguments: {'nthreads': 6}\n"
     ]
    },
    {
     "name": "stdout",
     "output_type": "stream",
     "text": [
      "#define _POSIX_C_SOURCE 200809L\n",
      "#include \"stdlib.h\"\n",
      "#include \"math.h\"\n",
      "#include \"sys/time.h\"\n",
      "#include \"xmmintrin.h\"\n",
      "#include \"pmmintrin.h\"\n",
      "#include \"omp.h\"\n",
      "\n",
      "struct dataobj\n",
      "{\n",
      "  void *restrict data;\n",
      "  int * size;\n",
      "  int * npsize;\n",
      "  int * dsize;\n",
      "  int * hsize;\n",
      "  int * hofs;\n",
      "  int * oofs;\n",
      "} ;\n",
      "\n",
      "struct profiler\n",
      "{\n",
      "  double section0;\n",
      "} ;\n",
      "\n",
      "\n",
      "int Kernel(struct dataobj *restrict f_vec, const int i_M, const int i_m, const int j_M, const int j_m, struct profiler * timers, const int nthreads)\n",
      "{\n",
      "  float (*restrict f)[f_vec->size[1]] __attribute__ ((aligned (64))) = (float (*)[f_vec->size[1]]) f_vec->data;\n",
      "  /* Flush denormal numbers to zero in hardware */\n",
      "  _MM_SET_DENORMALS_ZERO_MODE(_MM_DENORMALS_ZERO_ON);\n",
      "  _MM_SET_FLUSH_ZERO_MODE(_MM_FLUSH_ZERO_ON);\n",
      "  struct timeval start_section0, end_section0;\n",
      "  gettimeofday(&start_section0, NULL);\n",
      "  /* Begin section0 */\n",
      "  #pragma omp parallel num_threads(nthreads)\n",
      "  {\n",
      "    #pragma omp for collapse(1) schedule(static,1)\n",
      "    for (int i = i_m; i <= i_M; i += 1)\n",
      "    {\n",
      "      #pragma omp simd aligned(f:32)\n",
      "      for (int j = j_m; j <= j_M; j += 1)\n",
      "      {\n",
      "        if (f[i][j] > 0 && f[i][j] < 5)\n",
      "        {\n",
      "          f[i][j] = f[i][j] + 1;\n",
      "        }\n",
      "      }\n",
      "    }\n",
      "  }\n",
      "  /* End section0 */\n",
      "  gettimeofday(&end_section0, NULL);\n",
      "  timers->section0 += (double)(end_section0.tv_sec-start_section0.tv_sec)+(double)(end_section0.tv_usec-start_section0.tv_usec)/1000000;\n",
      "  return 0;\n",
      "}\n",
      "\n"
     ]
    },
    {
     "data": {
      "text/plain": [
       "Data([[3., 2., 2., 2., 2., 2., 2., 2., 2., 2.],\n",
       "      [2., 3., 2., 2., 2., 2., 2., 2., 2., 2.],\n",
       "      [2., 2., 3., 2., 2., 2., 2., 2., 2., 2.],\n",
       "      [2., 2., 2., 3., 2., 2., 2., 2., 2., 2.],\n",
       "      [2., 2., 2., 2., 3., 2., 2., 2., 2., 2.],\n",
       "      [2., 2., 2., 2., 2., 3., 2., 2., 2., 2.],\n",
       "      [2., 2., 2., 2., 2., 2., 3., 2., 2., 2.],\n",
       "      [2., 2., 2., 2., 2., 2., 2., 3., 2., 2.],\n",
       "      [2., 2., 2., 2., 2., 2., 2., 2., 3., 2.],\n",
       "      [2., 2., 2., 2., 2., 2., 2., 2., 2., 3.]], dtype=float32)"
      ]
     },
     "execution_count": 5,
     "metadata": {},
     "output_type": "execute_result"
    }
   ],
   "source": [
    "from devito import ConditionalDimension\n",
    "from devito.symbolics import CondEq\n",
    "from sympy import And\n",
    "\n",
    "condition = And(f[i,j] > 0, f[i,j] < 5 , evaluate=False)\n",
    "ci = ConditionalDimension(name='ci', parent=j, condition=condition)\n",
    "\n",
    "op = Operator(Eq(f, f + 1, implicit_dims=ci))\n",
    "op.apply()\n",
    "print(op.ccode)\n",
    "f.data\n"
   ]
  },
  {
   "cell_type": "markdown",
   "metadata": {},
   "source": [
    "Our operator will be increasing by one as far as element value does not get larger than 5. You can execute the following cell a few times to notice this. All values will converge to 5."
   ]
  },
  {
   "cell_type": "code",
   "execution_count": 6,
   "metadata": {},
   "outputs": [
    {
     "name": "stderr",
     "output_type": "stream",
     "text": [
      "Operator `Kernel` run in 0.01 s\n",
      "Performance[mode=advanced] arguments: {'nthreads': 6}\n"
     ]
    },
    {
     "data": {
      "text/plain": [
       "Data([[4., 3., 3., 3., 3., 3., 3., 3., 3., 3.],\n",
       "      [3., 4., 3., 3., 3., 3., 3., 3., 3., 3.],\n",
       "      [3., 3., 4., 3., 3., 3., 3., 3., 3., 3.],\n",
       "      [3., 3., 3., 4., 3., 3., 3., 3., 3., 3.],\n",
       "      [3., 3., 3., 3., 4., 3., 3., 3., 3., 3.],\n",
       "      [3., 3., 3., 3., 3., 4., 3., 3., 3., 3.],\n",
       "      [3., 3., 3., 3., 3., 3., 4., 3., 3., 3.],\n",
       "      [3., 3., 3., 3., 3., 3., 3., 4., 3., 3.],\n",
       "      [3., 3., 3., 3., 3., 3., 3., 3., 4., 3.],\n",
       "      [3., 3., 3., 3., 3., 3., 3., 3., 3., 4.]], dtype=float32)"
      ]
     },
     "execution_count": 6,
     "metadata": {},
     "output_type": "execute_result"
    }
   ],
   "source": [
    "# Execute this cell 4-5 times\n",
    "op.apply()\n",
    "f.data"
   ]
  },
  {
   "cell_type": "markdown",
   "metadata": {},
   "source": [
    "Now lets create 2 new 2D functions: Function $g$ and $h$. Let's initialize their data with 1's in their diagonal. There is no need to pass it to the operator. This time the $h$ will use the conditional dimension upon construction time. We add $i<5$ in the conditions and we update $h$ with $g + 1$ only for the first 5 rows. Have look at the generated data and the output data."
   ]
  },
  {
   "cell_type": "code",
   "execution_count": 7,
   "metadata": {},
   "outputs": [
    {
     "name": "stderr",
     "output_type": "stream",
     "text": [
      "Allocating memory for g(10, 10)\n",
      "Allocating memory for h(10, 10)\n",
      "Operator `Kernel` generated in 0.07 s\n",
      "  * lowering.IET: 0.05 s (78.9 %)\n",
      "     * specializing.IET: 0.04 s (63.1 %)\n",
      "        * make_parallel: 0.02 s (31.6 %)\n",
      "Flops reduction after symbolic optimization: [0 --> 0]\n",
      "Operator `Kernel` fetched `/tmp/devito-jitcache-uid1000/7fc1efb4e725b1eab7cad9e59cd19d3d8e1d8534.c` in 0.02 s from jit-cache\n",
      "Operator `Kernel` run in 0.01 s\n",
      "Performance[mode=advanced] arguments: {'nthreads_nonaffine': 6}\n"
     ]
    },
    {
     "name": "stdout",
     "output_type": "stream",
     "text": [
      "#define _POSIX_C_SOURCE 200809L\n",
      "#include \"stdlib.h\"\n",
      "#include \"math.h\"\n",
      "#include \"sys/time.h\"\n",
      "#include \"xmmintrin.h\"\n",
      "#include \"pmmintrin.h\"\n",
      "#include \"omp.h\"\n",
      "\n",
      "struct dataobj\n",
      "{\n",
      "  void *restrict data;\n",
      "  int * size;\n",
      "  int * npsize;\n",
      "  int * dsize;\n",
      "  int * hsize;\n",
      "  int * hofs;\n",
      "  int * oofs;\n",
      "} ;\n",
      "\n",
      "struct profiler\n",
      "{\n",
      "  double section0;\n",
      "} ;\n",
      "\n",
      "\n",
      "int Kernel(struct dataobj *restrict g_vec, struct dataobj *restrict h_vec, const int i_M, const int i_m, const int j_M, const int j_m, struct profiler * timers, const int nthreads_nonaffine)\n",
      "{\n",
      "  float (*restrict g)[g_vec->size[1]] __attribute__ ((aligned (64))) = (float (*)[g_vec->size[1]]) g_vec->data;\n",
      "  float (*restrict h)[h_vec->size[1]] __attribute__ ((aligned (64))) = (float (*)[h_vec->size[1]]) h_vec->data;\n",
      "  /* Flush denormal numbers to zero in hardware */\n",
      "  _MM_SET_DENORMALS_ZERO_MODE(_MM_DENORMALS_ZERO_ON);\n",
      "  _MM_SET_FLUSH_ZERO_MODE(_MM_FLUSH_ZERO_ON);\n",
      "  struct timeval start_section0, end_section0;\n",
      "  gettimeofday(&start_section0, NULL);\n",
      "  /* Begin section0 */\n",
      "  #pragma omp parallel num_threads(nthreads_nonaffine)\n",
      "  {\n",
      "    int chunk_size = (int)(fmax(1, (1.0F/3.0F)*(i_M - i_m + 1)/nthreads_nonaffine));\n",
      "    #pragma omp for collapse(1) schedule(dynamic,chunk_size)\n",
      "    for (int i = i_m; i <= i_M; i += 1)\n",
      "    {\n",
      "      #pragma omp simd aligned(g,h:32)\n",
      "      for (int j = j_m; j <= j_M; j += 1)\n",
      "      {\n",
      "        if (g[i][j] > 0 && i < 5 && g[i][j] < 5)\n",
      "        {\n",
      "          h[i][j] = g[i][j] + 1;\n",
      "        }\n",
      "      }\n",
      "    }\n",
      "  }\n",
      "  /* End section0 */\n",
      "  gettimeofday(&end_section0, NULL);\n",
      "  timers->section0 += (double)(end_section0.tv_sec-start_section0.tv_sec)+(double)(end_section0.tv_usec-start_section0.tv_usec)/1000000;\n",
      "  return 0;\n",
      "}\n",
      "\n"
     ]
    }
   ],
   "source": [
    "g = Function(name='g', shape=shape, dimensions=(i,j))\n",
    "ci = ConditionalDimension(name='ci', parent=j, condition=And(g[i,j] > 0, g[i,j] < 5, i< 5 , evaluate=False))\n",
    "h = Function(name='h', shape=shape, dimensions=(i,ci))\n",
    "g.data[:,:] = np.eye(10)\n",
    "h.data[:,:] = np.eye(10)\n",
    "\n",
    "op = Operator(Eq(h, g + 1, implicit_dims=ci))\n",
    "op.apply()\n",
    "h.data\n",
    "print(op.ccode)"
   ]
  },
  {
   "cell_type": "markdown",
   "metadata": {},
   "source": [
    "You can see that now `h` was been updated only for the first 5 rows."
   ]
  },
  {
   "cell_type": "markdown",
   "metadata": {},
   "source": [
    "## PART B - Game of Life WORK IN PROGRESS\n",
    "\n",
    "Live cells:\n",
    "\n",
    "- a cell with a live neighbour on its i-1 and j+1 neighbour will get live (1).\n"
   ]
  },
  {
   "cell_type": "code",
   "execution_count": 8,
   "metadata": {},
   "outputs": [
    {
     "name": "stderr",
     "output_type": "stream",
     "text": [
      "Allocating memory for gl(10, 10)\n",
      "Operator `Kernel` generated in 0.05 s\n",
      "  * lowering.IET: 0.04 s (92.1 %)\n",
      "     * specializing.IET: 0.03 s (69.1 %)\n",
      "        * optimize_halospots: 0.01 s (23.1 %)\n",
      "        * make_parallel: 0.01 s (23.1 %)\n",
      "        * make_simd: 0.01 s (23.1 %)\n",
      "     * lower_dims: 0.01 s (23.1 %)\n",
      "     * build: 0.01 s (23.1 %)\n",
      "  * lowering.Expressions: 0.01 s (23.1 %)\n",
      "  * lowering.Clusters: 0.01 s (23.1 %)\n",
      "     * specializing.Clusters: 0.01 s (23.1 %)\n",
      "        * blocking: 0.01 s (23.1 %)\n",
      "        * fuse: 0.01 s (23.1 %)\n",
      "        * optimize_pows: 0.01 s (23.1 %)\n",
      "     * analyze: 0.01 s (23.1 %)\n",
      "     * schedule: 0.01 s (23.1 %)\n",
      "Flops reduction after symbolic optimization: [0 --> 0]\n"
     ]
    },
    {
     "data": {
      "image/png": "[encoded data removed]",
      "text/plain": [
       "<Figure size 432x288 with 1 Axes>"
      ]
     },
     "metadata": {
      "needs_background": "light"
     },
     "output_type": "display_data"
    }
   ],
   "source": [
    "import matplotlib.pyplot as plt\n",
    "\n",
    "gl = Function(name='gl', shape=shape, dimensions=(i,j))\n",
    "gl.data[:,:] = np.eye(nx)\n",
    "plt.imshow(gl.data) # Show data\n",
    "\n",
    "# TO FIX as subdomain? \n",
    "# Adding i>0 j<9 to avoid OOB accesses\n",
    "condition = And(gl[i-1,j] > 0, gl[i,j+1] > 0, i > 0, j<9, evaluate=False)\n",
    "\n",
    "ci = ConditionalDimension(name='ci2', parent=j, condition=condition)\n",
    "\n",
    "Eq1 = Eq(gl, 1, implicit_dims=(ci))\n",
    "\n",
    "op = Operator([Eq1])\n",
    "\n",
    "\n"
   ]
  },
  {
   "cell_type": "code",
   "execution_count": 9,
   "metadata": {},
   "outputs": [
    {
     "name": "stderr",
     "output_type": "stream",
     "text": [
      "Operator `Kernel` fetched `/tmp/devito-jitcache-uid1000/1856a355eb857e73713a587e9074cfbe04f3da29.c` in 0.01 s from jit-cache\n",
      "Operator `Kernel` run in 0.01 s\n",
      "Performance[mode=advanced] arguments: {'nthreads': 6}\n"
     ]
    },
    {
     "name": "stdout",
     "output_type": "stream",
     "text": [
      "#define _POSIX_C_SOURCE 200809L\n",
      "#include \"stdlib.h\"\n",
      "#include \"math.h\"\n",
      "#include \"sys/time.h\"\n",
      "#include \"xmmintrin.h\"\n",
      "#include \"pmmintrin.h\"\n",
      "#include \"omp.h\"\n",
      "\n",
      "struct dataobj\n",
      "{\n",
      "  void *restrict data;\n",
      "  int * size;\n",
      "  int * npsize;\n",
      "  int * dsize;\n",
      "  int * hsize;\n",
      "  int * hofs;\n",
      "  int * oofs;\n",
      "} ;\n",
      "\n",
      "struct profiler\n",
      "{\n",
      "  double section0;\n",
      "} ;\n",
      "\n",
      "\n",
      "int Kernel(struct dataobj *restrict gl_vec, const int i_M, const int i_m, const int j_M, const int j_m, struct profiler * timers, const int nthreads)\n",
      "{\n",
      "  float (*restrict gl)[gl_vec->size[1]] __attribute__ ((aligned (64))) = (float (*)[gl_vec->size[1]]) gl_vec->data;\n",
      "  /* Flush denormal numbers to zero in hardware */\n",
      "  _MM_SET_DENORMALS_ZERO_MODE(_MM_DENORMALS_ZERO_ON);\n",
      "  _MM_SET_FLUSH_ZERO_MODE(_MM_FLUSH_ZERO_ON);\n",
      "  struct timeval start_section0, end_section0;\n",
      "  gettimeofday(&start_section0, NULL);\n",
      "  /* Begin section0 */\n",
      "  #pragma omp parallel num_threads(nthreads)\n",
      "  {\n",
      "    #pragma omp for collapse(1) schedule(static,1)\n",
      "    for (int i = i_m; i <= i_M; i += 1)\n",
      "    {\n",
      "      #pragma omp simd aligned(gl:32)\n",
      "      for (int j = j_m; j <= j_M; j += 1)\n",
      "      {\n",
      "        if (i > 0 && gl[i][j + 1] > 0 && gl[i - 1][j] > 0 && j < 9)\n",
      "        {\n",
      "          gl[i][j] = 1;\n",
      "        }\n",
      "      }\n",
      "    }\n",
      "  }\n",
      "  /* End section0 */\n",
      "  gettimeofday(&end_section0, NULL);\n",
      "  timers->section0 += (double)(end_section0.tv_sec-start_section0.tv_sec)+(double)(end_section0.tv_usec-start_section0.tv_usec)/1000000;\n",
      "  return 0;\n",
      "}\n",
      "\n"
     ]
    },
    {
     "data": {
      "text/plain": [
       "<matplotlib.image.AxesImage at 0x7ff3b9f381c0>"
      ]
     },
     "execution_count": 9,
     "metadata": {},
     "output_type": "execute_result"
    },
    {
     "data": {
      "image/png": "[encoded data removed]",
      "text/plain": [
       "<Figure size 432x288 with 1 Axes>"
      ]
     },
     "metadata": {
      "needs_background": "light"
     },
     "output_type": "display_data"
    }
   ],
   "source": [
    "print(op.ccode)\n",
    "op.apply()\n",
    "plt.imshow(gl.data)"
   ]
  },
  {
   "cell_type": "code",
   "execution_count": 10,
   "metadata": {},
   "outputs": [
    {
     "name": "stderr",
     "output_type": "stream",
     "text": [
      "Operator `Kernel` run in 0.01 s\n",
      "Performance[mode=advanced] arguments: {'nthreads': 6}\n"
     ]
    },
    {
     "data": {
      "text/plain": [
       "<matplotlib.image.AxesImage at 0x7ff3b9f0c070>"
      ]
     },
     "execution_count": 10,
     "metadata": {},
     "output_type": "execute_result"
    },
    {
     "data": {
      "image/png": "[encoded data removed]",
      "text/plain": [
       "<Figure size 432x288 with 1 Axes>"
      ]
     },
     "metadata": {
      "needs_background": "light"
     },
     "output_type": "display_data"
    }
   ],
   "source": [
    "# Execute this cell a few times to see more cells getting live\n",
    "\n",
    "op.apply()\n",
    "plt.imshow(gl.data)"
   ]
  },
  {
   "cell_type": "code",
   "execution_count": null,
   "metadata": {},
   "outputs": [],
   "source": []
  }
 ],
 "metadata": {
  "celltoolbar": "Tags",
  "kernelspec": {
   "display_name": "Python 3.7.5 64-bit",
   "language": "python",
   "name": "python37564bit2479450fa2bd44ebb0910f117f84ba43"
  },
  "language_info": {
   "codemirror_mode": {
    "name": "ipython",
    "version": 3
   },
   "file_extension": ".py",
   "mimetype": "text/x-python",
   "name": "python",
   "nbconvert_exporter": "python",
   "pygments_lexer": "ipython3",
   "version": "3.8.2"
  }
 },
 "nbformat": 4,
 "nbformat_minor": 2
}
